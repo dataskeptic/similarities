{
  "nbformat": 4,
  "nbformat_minor": 0,
  "metadata": {
    "colab": {
      "provenance": [],
      "mount_file_id": "1RQfVPFvncraAEcTwY7MM2gFpVMZt0d2M",
      "authorship_tag": "ABX9TyNA+MofFkZ73aIoSEoPDBf3",
      "include_colab_link": true
    },
    "kernelspec": {
      "name": "python3",
      "display_name": "Python 3"
    },
    "language_info": {
      "name": "python"
    }
  },
  "cells": [
    {
      "cell_type": "markdown",
      "metadata": {
        "id": "view-in-github",
        "colab_type": "text"
      },
      "source": [
        "<a href=\"https://colab.research.google.com/github/dataskeptic/similarities/blob/main/nilc_wordembeddings_distances.ipynb\" target=\"_parent\"><img src=\"https://colab.research.google.com/assets/colab-badge.svg\" alt=\"Open In Colab\"/></a>"
      ]
    },
    {
      "cell_type": "code",
      "source": [
        "!pip install pot"
      ],
      "metadata": {
        "id": "qARiqG2ywA4e"
      },
      "execution_count": null,
      "outputs": []
    },
    {
      "cell_type": "code",
      "execution_count": null,
      "metadata": {
        "id": "FhOH5jujQEN5"
      },
      "outputs": [],
      "source": [
        "!pip install spacy"
      ]
    },
    {
      "cell_type": "code",
      "source": [
        "!python -m spacy download pt_core_news_lg"
      ],
      "metadata": {
        "id": "vUxFnINhr_3s"
      },
      "execution_count": null,
      "outputs": []
    },
    {
      "cell_type": "code",
      "source": [
        "from nltk.corpus import stopwords\n",
        "from nltk import word_tokenize\n",
        "from nltk.stem import WordNetLemmatizer\n",
        "from nltk.stem import SnowballStemmer\n",
        "import pandas as pd\n",
        "import numpy as np\n",
        "import nltk\n",
        "import re\n",
        "nltk.download('wordnet')\n",
        "nltk.download('stopwords')\n",
        "nltk.download('punkt')"
      ],
      "metadata": {
        "id": "F1T32z2wsHCN"
      },
      "execution_count": null,
      "outputs": []
    },
    {
      "cell_type": "code",
      "source": [
        "import spacy\n",
        "nlp = spacy.load('pt_core_news_lg')"
      ],
      "metadata": {
        "id": "RjiLR-UCsJ-K"
      },
      "execution_count": 5,
      "outputs": []
    },
    {
      "cell_type": "code",
      "source": [
        "def to_lowercase(data):\n",
        "    return data.str.lower()\n",
        "\n",
        "def remove_punct(data):\n",
        "    return data.str.replace(r'[^\\w\\s]', ' ', regex=True)\n",
        "\n",
        "def remove_stopwords(text):\n",
        "    stop_words = spacy.lang.pt.stop_words.STOP_WORDS\n",
        "    doc = nlp(text)\n",
        "    return ' '.join([token.text for token in doc if token.text.lower() not in stop_words])\n",
        "\n",
        "def lemmatize(text):\n",
        "    lemmatizer = WordNetLemmatizer()\n",
        "    tokens = word_tokenize(text, language='portuguese')\n",
        "    return ' '.join([lemmatizer.lemmatize(token) for token in tokens])\n",
        "\n",
        "def stem(text):\n",
        "    stemmer = SnowballStemmer('portuguese')\n",
        "    tokens = word_tokenize(text, language='portuguese')\n",
        "    return ' '.join([stemmer.stem(token) for token in tokens])\n",
        "\n",
        "def preprocess_text(data):\n",
        "    data = remove_punct(data)\n",
        "    data = to_lowercase(data)\n",
        "    data = data.apply(remove_stopwords)\n",
        "    data = data.apply(lemmatize)\n",
        "    #data = data.apply(stem)\n",
        "    return data"
      ],
      "metadata": {
        "id": "o-zC2-BfmCUB"
      },
      "execution_count": 6,
      "outputs": []
    },
    {
      "cell_type": "code",
      "source": [
        "path_reference_answers = \"drive/MyDrive/data/poo/reference_answers_extended.xlsx\"\n",
        "path_student_answers = \"drive/MyDrive/data/poo/student_answers.xlsx\""
      ],
      "metadata": {
        "id": "HLRlbyAXsUrZ"
      },
      "execution_count": 7,
      "outputs": []
    },
    {
      "cell_type": "code",
      "source": [
        "reference_answers = pd.read_excel(path_reference_answers)\n",
        "student_answers = pd.read_excel(path_student_answers)\n",
        "\n",
        "print(reference_answers)\n",
        "print(\"---------------------------------------\")\n",
        "print(student_answers)"
      ],
      "metadata": {
        "colab": {
          "base_uri": "https://localhost:8080/"
        },
        "id": "-TtGdxM7sXMX",
        "outputId": "f0e098a3-2cdf-4f5d-ca8e-23318306fd3e"
      },
      "execution_count": 8,
      "outputs": [
        {
          "output_type": "stream",
          "name": "stdout",
          "text": [
            "    question_id                                        refans_text  \\\n",
            "0             1  Polimorfismo é uma característica das linguage...   \n",
            "1             1  Polimorfismo é a capacidade de uma classe se c...   \n",
            "2             1  Polimorfismo refere-se à capacidade de um méto...   \n",
            "3             1  Em programação orientada a objetos, polimorfis...   \n",
            "4             1  O polimorfismo é um conceito em programação or...   \n",
            "5             2  Classe são modelos descritivos para a criação ...   \n",
            "6             2  Uma classe é uma descrição abstrata de um tipo...   \n",
            "7             2  Classes são estruturas fundamentais em program...   \n",
            "8             2  Em linguagens orientadas a objetos, uma classe...   \n",
            "9             2  Classes em programação orientada a objetos ser...   \n",
            "10            3  Herança é um conceito que permite que uma clas...   \n",
            "11            3  Herança na programação orientada a objetos é u...   \n",
            "12            3  Herança é um mecanismo que permite que uma nov...   \n",
            "13            3  Herança é a capacidade de uma classe herdar at...   \n",
            "14            3  A herança em OOP permite que uma classe (subcl...   \n",
            "15            4  private -&gt; Permite acesso apenas dentro da ...   \n",
            "16            4  Existe, 4 tipos de modificadores de acesso, sã...   \n",
            "17            4  Em Java, os modificadores de acesso determinam...   \n",
            "18            4  Os modificadores de acesso em Java controlam o...   \n",
            "19            4  Os modificadores de acesso em Java ajudam a de...   \n",
            "\n",
            "                                            enunciado  \n",
            "0   Sobre Orientação a Objetos, descreva o que voc...  \n",
            "1   Sobre Orientação a Objetos, descreva o que voc...  \n",
            "2   Sobre Orientação a Objetos, descreva o que voc...  \n",
            "3   Sobre Orientação a Objetos, descreva o que voc...  \n",
            "4   Sobre Orientação a Objetos, descreva o que voc...  \n",
            "5   Descreva o que você entende por classes e obje...  \n",
            "6   Descreva o que você entende por classes e obje...  \n",
            "7   Descreva o que você entende por classes e obje...  \n",
            "8   Descreva o que você entende por classes e obje...  \n",
            "9   Descreva o que você entende por classes e obje...  \n",
            "10  Herança é um dos dos pilares da Programação Or...  \n",
            "11  Herança é um dos dos pilares da Programação Or...  \n",
            "12  Herança é um dos dos pilares da Programação Or...  \n",
            "13  Herança é um dos dos pilares da Programação Or...  \n",
            "14  Herança é um dos dos pilares da Programação Or...  \n",
            "15  Os atributos e métodos em Java podem receber m...  \n",
            "16  Os atributos e métodos em Java podem receber m...  \n",
            "17  Os atributos e métodos em Java podem receber m...  \n",
            "18  Os atributos e métodos em Java podem receber m...  \n",
            "19  Os atributos e métodos em Java podem receber m...  \n",
            "---------------------------------------\n",
            "     question_id                                        answer_text  notas\n",
            "0              1  Polimorfismo é, como o nome sugere (múltiplas ...   1.11\n",
            "1              2  Classes são modelos/\"estruturas\" de coisas tra...   1.11\n",
            "2              3  Herança, em POO, é bem fácil de ser entendida ...   1.00\n",
            "3              4  Os possíveis modificadores de acesso são 4: pu...   1.11\n",
            "4              1  O polimorfismo estático ele permite que nós cr...   0.40\n",
            "..           ...                                                ...    ...\n",
            "119            4                                            Nao sei   0.00\n",
            "120            1  Polimorfismo permite que a partir de um contra...   0.70\n",
            "121            2  Classes são estruturas de dados, que reunem um...   0.60\n",
            "122            3  Herança permite que atributos ou métodos de um...   1.11\n",
            "123            4  public - Permite que qualquer método ou atribu...   0.75\n",
            "\n",
            "[124 rows x 3 columns]\n"
          ]
        }
      ]
    },
    {
      "cell_type": "code",
      "source": [
        "reference_answers['refans_preprocess'] = preprocess_text(reference_answers['refans_text'])"
      ],
      "metadata": {
        "id": "a1MtOA5Qvbfy"
      },
      "execution_count": 9,
      "outputs": []
    },
    {
      "cell_type": "code",
      "source": [
        "print(reference_answers['refans_preprocess'])"
      ],
      "metadata": {
        "colab": {
          "base_uri": "https://localhost:8080/"
        },
        "id": "25I2PIucbRSk",
        "outputId": "8e44e8ee-4558-4ec4-9703-62c19060d9cb"
      },
      "execution_count": 10,
      "outputs": [
        {
          "output_type": "stream",
          "name": "stdout",
          "text": [
            "0     polimorfismo característica linguagens orienta...\n",
            "1     polimorfismo capacidade classe comportar difer...\n",
            "2     polimorfismo refere capacidade método várias i...\n",
            "3     programação orientada objetos polimorfismo pri...\n",
            "4     polimorfismo conceito programação orientada ob...\n",
            "5     classe modelos descritivos criação tipos lingu...\n",
            "6     classe descrição abstrata objeto definindo atr...\n",
            "7     class estruturas fundamentais programação orie...\n",
            "8     linguagens orientadas objetos classe modelo pr...\n",
            "9     class programação orientada objetos servem mol...\n",
            "10    herança conceito permite classe absorva estrut...\n",
            "11    herança programação orientada objetos princípi...\n",
            "12    herança mecanismo permite classe herde campos ...\n",
            "13    herança capacidade classe herdar atributos mét...\n",
            "14    herança oop permite classe subclasse herde car...\n",
            "15    private gt permite acesso própria classepublic...\n",
            "16    existe 4 tipos modificadores acesso public cla...\n",
            "17    java modificadores acesso determinam visibilid...\n",
            "18    modificadores acesso java controlam escopo vis...\n",
            "19    modificadores acesso java ajudam definir visib...\n",
            "Name: refans_preprocess, dtype: object\n"
          ]
        }
      ]
    },
    {
      "cell_type": "code",
      "source": [
        "student_answers['answer_preprocess'] = preprocess_text(student_answers['answer_text'])"
      ],
      "metadata": {
        "id": "CHasgfPBvtYp"
      },
      "execution_count": 11,
      "outputs": []
    },
    {
      "cell_type": "code",
      "source": [
        "print(student_answers['answer_preprocess'])"
      ],
      "metadata": {
        "colab": {
          "base_uri": "https://localhost:8080/"
        },
        "id": "_ZapNJOKb6IH",
        "outputId": "af20e544-3e26-44e9-88ca-301663e0ab1c"
      },
      "execution_count": 12,
      "outputs": [
        {
          "output_type": "stream",
          "name": "stdout",
          "text": [
            "0      polimorfismo nome sugere múltiplas formas mane...\n",
            "1      class modelos estruturas coisas transcritos có...\n",
            "2      herança poo fácil entendida olhada contexto us...\n",
            "3      possíveis modificadores acesso 4 public privat...\n",
            "4      polimorfismo estático permite criemos métodos ...\n",
            "                             ...                        \n",
            "119                                                  nao\n",
            "120    polimorfismo permite contrato definido classe ...\n",
            "121    class estruturas dado reunem conjunto métodos ...\n",
            "122    herança permite atributos métodos classe sejam...\n",
            "123    public permite método atributo classe seja cha...\n",
            "Name: answer_preprocess, Length: 124, dtype: object\n"
          ]
        }
      ]
    },
    {
      "cell_type": "code",
      "source": [
        "from ot import emd2"
      ],
      "metadata": {
        "id": "J-Vjpxedv4nX"
      },
      "execution_count": null,
      "outputs": []
    },
    {
      "cell_type": "code",
      "source": [
        "from gensim.models import KeyedVectors\n",
        "model_cbow = KeyedVectors.load_word2vec_format(\"drive/MyDrive/wordembeddings/cbow_s300.txt\")"
      ],
      "metadata": {
        "id": "7vLPnOVRsjxa"
      },
      "execution_count": 14,
      "outputs": []
    },
    {
      "cell_type": "code",
      "source": [
        "model_cbow.init_sims(replace=True)"
      ],
      "metadata": {
        "id": "r7Q_KlDrlyHC"
      },
      "execution_count": null,
      "outputs": []
    },
    {
      "cell_type": "code",
      "source": [
        "model_glove = KeyedVectors.load_word2vec_format(\"drive/MyDrive/wordembeddings/glove_s300.txt\")"
      ],
      "metadata": {
        "id": "YwxknYkQbjyR"
      },
      "execution_count": 16,
      "outputs": []
    },
    {
      "cell_type": "code",
      "source": [
        "model_glove.init_sims(replace=True)"
      ],
      "metadata": {
        "id": "ReJvP0aNEz4F"
      },
      "execution_count": null,
      "outputs": []
    },
    {
      "cell_type": "code",
      "source": [
        "model_skip = KeyedVectors.load_word2vec_format(\"drive/MyDrive/wordembeddings/skip_s300.txt\")"
      ],
      "metadata": {
        "id": "Sw1pPQHqblVG"
      },
      "execution_count": 18,
      "outputs": []
    },
    {
      "cell_type": "code",
      "source": [
        "model_skip.init_sims(replace=True)"
      ],
      "metadata": {
        "id": "rWHB3T5GE50b"
      },
      "execution_count": null,
      "outputs": []
    },
    {
      "cell_type": "code",
      "source": [
        "from gensim.similarities import WmdSimilarity\n"
      ],
      "metadata": {
        "id": "rehMvwuOluJj"
      },
      "execution_count": 20,
      "outputs": []
    },
    {
      "cell_type": "code",
      "source": [
        "\n",
        "def compute_wmd_similarities(student_df, reference_df, model, prefix):\n",
        "    wmd_similarities = pd.DataFrame()\n",
        "\n",
        "    for questionId in range(1, 5):\n",
        "        temp_student_answers = student_df[student_df['question_id'] == questionId].copy()\n",
        "        refans_answers = reference_df['refans_preprocess'][reference_df['question_id'] == questionId].copy()\n",
        "        refans_answers = [ref.split() for ref in refans_answers]  # Split just once for each questionId\n",
        "        wmd_similarity = WmdSimilarity(refans_answers, model)\n",
        "\n",
        "        for index, row in temp_student_answers.iterrows():\n",
        "            temp_answer = row['answer_preprocess']\n",
        "            similarities = wmd_similarity[temp_answer.split()]\n",
        "\n",
        "            similarity = max(similarities), np.mean(similarities), np.median(similarities), min(similarities)\n",
        "            columns = [f\"max_{prefix}\", f\"mean_{prefix}\", f\"median_{prefix}\", f\"min_{prefix}\"]\n",
        "            temp_student_answers.loc[index, columns] = similarity\n",
        "\n",
        "        wmd_similarities = pd.concat([wmd_similarities, temp_student_answers])\n",
        "\n",
        "    return wmd_similarities[columns]\n",
        "\n",
        "\n",
        "final_df = student_answers.copy()\n",
        "\n",
        "columns_cbow = compute_wmd_similarities(student_answers, reference_answers, model_cbow, \"cbow\")\n",
        "final_df = pd.concat([final_df, columns_cbow], axis=1)\n",
        "\n",
        "columns_glove = compute_wmd_similarities(student_answers, reference_answers, model_glove, \"glove\")\n",
        "final_df = pd.concat([final_df, columns_glove], axis=1)\n",
        "\n",
        "columns_skip = compute_wmd_similarities(student_answers, reference_answers, model_skip, \"skip\")\n",
        "final_df = pd.concat([final_df, columns_skip], axis=1)\n",
        "wmd_similarities = final_df.copy()\n",
        "print(wmd_similarities)\n"
      ],
      "metadata": {
        "colab": {
          "base_uri": "https://localhost:8080/"
        },
        "id": "ygJSQgAfZtoE",
        "outputId": "84bd0b32-976f-4c87-838c-153e54c55e6e"
      },
      "execution_count": 81,
      "outputs": [
        {
          "output_type": "stream",
          "name": "stdout",
          "text": [
            "     question_id                                        answer_text  notas  \\\n",
            "0              1  Polimorfismo é, como o nome sugere (múltiplas ...   1.11   \n",
            "1              2  Classes são modelos/\"estruturas\" de coisas tra...   1.11   \n",
            "2              3  Herança, em POO, é bem fácil de ser entendida ...   1.00   \n",
            "3              4  Os possíveis modificadores de acesso são 4: pu...   1.11   \n",
            "4              1  O polimorfismo estático ele permite que nós cr...   0.40   \n",
            "..           ...                                                ...    ...   \n",
            "119            4                                            Nao sei   0.00   \n",
            "120            1  Polimorfismo permite que a partir de um contra...   0.70   \n",
            "121            2  Classes são estruturas de dados, que reunem um...   0.60   \n",
            "122            3  Herança permite que atributos ou métodos de um...   1.11   \n",
            "123            4  public - Permite que qualquer método ou atribu...   0.75   \n",
            "\n",
            "                                     answer_preprocess  max_cbow  mean_cbow  \\\n",
            "0    polimorfismo nome sugere múltiplas formas mane...  0.555284   0.545074   \n",
            "1    class modelos estruturas coisas transcritos có...  0.512241   0.504773   \n",
            "2    herança poo fácil entendida olhada contexto us...  0.555945   0.549108   \n",
            "3    possíveis modificadores acesso 4 public privat...  0.631435   0.569572   \n",
            "4    polimorfismo estático permite criemos métodos ...  0.544269   0.521817   \n",
            "..                                                 ...       ...        ...   \n",
            "119                                                nao  0.415993   0.415695   \n",
            "120  polimorfismo permite contrato definido classe ...  0.528802   0.516549   \n",
            "121  class estruturas dado reunem conjunto métodos ...  0.512042   0.499263   \n",
            "122  herança permite atributos métodos classe sejam...  0.536637   0.518531   \n",
            "123  public permite método atributo classe seja cha...  0.538027   0.521969   \n",
            "\n",
            "     median_cbow  min_cbow  max_glove  mean_glove  median_glove  min_glove  \\\n",
            "0       0.551163  0.525225   0.562848    0.550913      0.553132   0.529229   \n",
            "1       0.505663  0.492167   0.533261    0.524550      0.528145   0.507557   \n",
            "2       0.550271  0.538362   0.562827    0.556127      0.557570   0.542025   \n",
            "3       0.565650  0.523678   0.662007    0.590806      0.585481   0.551996   \n",
            "4       0.517609  0.500956   0.553549    0.529026      0.528338   0.506895   \n",
            "..           ...       ...        ...         ...           ...        ...   \n",
            "119     0.415743  0.415142   0.425317    0.423609      0.423155   0.422239   \n",
            "120     0.518364  0.493888   0.540171    0.523861      0.521968   0.504308   \n",
            "121     0.502564  0.482905   0.528853    0.514270      0.517712   0.499058   \n",
            "122     0.516649  0.502810   0.558881    0.533237      0.529734   0.512971   \n",
            "123     0.535005  0.494562   0.573371    0.547173      0.549863   0.523988   \n",
            "\n",
            "     max_skip  mean_skip  median_skip  min_skip  \n",
            "0    0.567711   0.558560     0.562769  0.541805  \n",
            "1    0.516945   0.508208     0.509174  0.491802  \n",
            "2    0.561291   0.555744     0.558709  0.545055  \n",
            "3    0.640280   0.578687     0.574941  0.534521  \n",
            "4    0.558272   0.539055     0.536719  0.522865  \n",
            "..        ...        ...          ...       ...  \n",
            "119  0.422144   0.421521     0.421691  0.420858  \n",
            "120  0.538054   0.524949     0.526871  0.504904  \n",
            "121  0.512909   0.500753     0.505345  0.483041  \n",
            "122  0.548601   0.531023     0.529965  0.517392  \n",
            "123  0.552531   0.534155     0.545534  0.504787  \n",
            "\n",
            "[124 rows x 16 columns]\n"
          ]
        }
      ]
    },
    {
      "cell_type": "code",
      "source": [
        "\n",
        "def compute_cosine_similarities(student_df, reference_df, model, prefix):\n",
        "    cosine_similarities = pd.DataFrame()\n",
        "\n",
        "    for questionId in range(1, 5):\n",
        "        temp_student_answers = student_df[student_df['question_id'] == questionId].copy()\n",
        "        refans_answers = reference_df['refans_preprocess'][reference_df['question_id'] == questionId].copy()\n",
        "        refans_answers = [ref.split() for ref in refans_answers]  # Split just once for each questionId\n",
        "\n",
        "        for index, row in temp_student_answers.iterrows():\n",
        "            temp_answer = row['answer_preprocess'].split()\n",
        "            similarities = ([model.n_similarity(temp_answer, ref) for ref in refans_answers])\n",
        "\n",
        "            similarity = max(similarities), np.mean(similarities), np.median(similarities), min(similarities)\n",
        "            columns = [f\"max_{prefix}\", f\"mean_{prefix}\", f\"median_{prefix}\", f\"min_{prefix}\"]\n",
        "            temp_student_answers.loc[index, columns] = similarity\n",
        "\n",
        "        cosine_similarities = pd.concat([cosine_similarities, temp_student_answers])\n",
        "\n",
        "    return cosine_similarities[columns]\n",
        "\n",
        "# Assuming student_answers and reference_answers are your dataframes and model_cbow, model_glove, and model_skip are your models\n",
        "\n",
        "final_df = student_answers.copy()\n",
        "\n",
        "columns_cbow = compute_cosine_similarities(student_answers, reference_answers, model_cbow, \"cbow\")\n",
        "final_df = pd.concat([final_df, columns_cbow], axis=1)\n",
        "\n",
        "columns_glove = compute_cosine_similarities(student_answers, reference_answers, model_glove, \"glove\")\n",
        "final_df = pd.concat([final_df, columns_glove], axis=1)\n",
        "\n",
        "columns_skip = compute_cosine_similarities(student_answers, reference_answers, model_skip, \"skip\")\n",
        "final_df = pd.concat([final_df, columns_skip], axis=1)\n",
        "cosine_similarities = final_df.copy()\n",
        "print(cosine_similarities)"
      ],
      "metadata": {
        "colab": {
          "base_uri": "https://localhost:8080/"
        },
        "id": "xh9HrKabbNU-",
        "outputId": "c3d76728-0c03-4353-c00a-c83c3a217854"
      },
      "execution_count": 40,
      "outputs": [
        {
          "output_type": "stream",
          "name": "stdout",
          "text": [
            "     question_id                                        answer_text  notas  \\\n",
            "0              1  Polimorfismo é, como o nome sugere (múltiplas ...   1.11   \n",
            "1              2  Classes são modelos/\"estruturas\" de coisas tra...   1.11   \n",
            "2              3  Herança, em POO, é bem fácil de ser entendida ...   1.00   \n",
            "3              4  Os possíveis modificadores de acesso são 4: pu...   1.11   \n",
            "4              1  O polimorfismo estático ele permite que nós cr...   0.40   \n",
            "..           ...                                                ...    ...   \n",
            "119            4                                            Nao sei   0.00   \n",
            "120            1  Polimorfismo permite que a partir de um contra...   0.70   \n",
            "121            2  Classes são estruturas de dados, que reunem um...   0.60   \n",
            "122            3  Herança permite que atributos ou métodos de um...   1.11   \n",
            "123            4  public - Permite que qualquer método ou atribu...   0.75   \n",
            "\n",
            "                                     answer_preprocess  max_cbow  mean_cbow  \\\n",
            "0    polimorfismo nome sugere múltiplas formas mane...  0.869012   0.834624   \n",
            "1    class modelos estruturas coisas transcritos có...  0.738941   0.700694   \n",
            "2    herança poo fácil entendida olhada contexto us...  0.847929   0.823220   \n",
            "3    possíveis modificadores acesso 4 public privat...  0.893464   0.740092   \n",
            "4    polimorfismo estático permite criemos métodos ...  0.793172   0.739989   \n",
            "..                                                 ...       ...        ...   \n",
            "119                                                nao  0.044194   0.034725   \n",
            "120  polimorfismo permite contrato definido classe ...  0.757278   0.722140   \n",
            "121  class estruturas dado reunem conjunto métodos ...  0.720706   0.699079   \n",
            "122  herança permite atributos métodos classe sejam...  0.715130   0.664849   \n",
            "123  public permite método atributo classe seja cha...  0.703565   0.598188   \n",
            "\n",
            "     median_cbow  min_cbow  max_glove  mean_glove  median_glove  min_glove  \\\n",
            "0       0.853856  0.782590   0.862132    0.822002      0.820474   0.783076   \n",
            "1       0.721668  0.640998   0.915744    0.900158      0.908060   0.859730   \n",
            "2       0.810391  0.806097   0.887886    0.841797      0.847029   0.770267   \n",
            "3       0.745905  0.567679   0.955163    0.870658      0.872771   0.805918   \n",
            "4       0.740642  0.688081   0.798466    0.764199      0.752068   0.735297   \n",
            "..           ...       ...        ...         ...           ...        ...   \n",
            "119     0.039112  0.023941   0.193488    0.172598      0.170718   0.140270   \n",
            "120     0.741595  0.644011   0.815833    0.741292      0.746046   0.672291   \n",
            "121     0.696319  0.682415   0.903619    0.884836      0.886187   0.858771   \n",
            "122     0.650960  0.614762   0.834681    0.761840      0.784232   0.696977   \n",
            "123     0.609843  0.420347   0.886241    0.825658      0.840659   0.737818   \n",
            "\n",
            "     max_skip  mean_skip  median_skip  min_skip  \n",
            "0    0.894783   0.884483     0.886664  0.873506  \n",
            "1    0.834659   0.806876     0.821383  0.729580  \n",
            "2    0.888927   0.856865     0.863187  0.818407  \n",
            "3    0.922969   0.834616     0.840123  0.705401  \n",
            "4    0.855253   0.836366     0.828211  0.825154  \n",
            "..        ...        ...          ...       ...  \n",
            "119  0.159788   0.144253     0.142868  0.125340  \n",
            "120  0.833957   0.800856     0.800637  0.773811  \n",
            "121  0.826007   0.798229     0.801011  0.759636  \n",
            "122  0.831149   0.762881     0.749024  0.694187  \n",
            "123  0.828620   0.755312     0.785360  0.589781  \n",
            "\n",
            "[124 rows x 16 columns]\n"
          ]
        }
      ]
    },
    {
      "cell_type": "code",
      "source": [
        "def assign_grades(column):\n",
        "    median = wmd_similarities[column].median()\n",
        "    std = wmd_similarities[column].std()\n",
        "    lower_bound = median - std\n",
        "    upper_bound = median + std\n",
        "\n",
        "    def grade(similarity):\n",
        "        if similarity < lower_bound:\n",
        "            return 0\n",
        "        elif similarity < median:\n",
        "            return 1\n",
        "        elif similarity < upper_bound:\n",
        "            return 2\n",
        "        else:\n",
        "            return 3\n",
        "\n",
        "    return wmd_similarities[column].apply(grade)\n",
        "\n",
        "graded_wmd = wmd_similarities.copy()\n",
        "\n",
        "# Assign grades to each column in the dataframe\n",
        "for column in wmd_similarities.columns[4:]:\n",
        "    graded_wmd[f\"{column}_grade\"] = assign_grades(column)\n",
        "\n",
        "print(graded_wmd[['max_cbow_grade', 'mean_cbow_grade', 'median_cbow_grade',\n",
        "       'min_cbow_grade', 'max_glove_grade', 'mean_glove_grade',\n",
        "       'median_glove_grade', 'min_glove_grade', 'max_skip_grade',\n",
        "       'mean_skip_grade', 'median_skip_grade', 'min_skip_grade']])"
      ],
      "metadata": {
        "colab": {
          "base_uri": "https://localhost:8080/"
        },
        "id": "e6e0zpNZEIkt",
        "outputId": "b88a208f-d240-4c15-dcab-852b0f767b15"
      },
      "execution_count": 89,
      "outputs": [
        {
          "output_type": "stream",
          "name": "stdout",
          "text": [
            "     max_cbow_grade  mean_cbow_grade  median_cbow_grade  min_cbow_grade  \\\n",
            "0                 2                2                  2               2   \n",
            "1                 1                1                  1               1   \n",
            "2                 2                2                  2               3   \n",
            "3                 3                3                  3               2   \n",
            "4                 2                2                  2               2   \n",
            "..              ...              ...                ...             ...   \n",
            "119               0                0                  0               0   \n",
            "120               1                2                  2               2   \n",
            "121               1                1                  1               1   \n",
            "122               2                2                  2               2   \n",
            "123               2                2                  2               2   \n",
            "\n",
            "     max_glove_grade  mean_glove_grade  median_glove_grade  min_glove_grade  \\\n",
            "0                  2                 2                   2                2   \n",
            "1                  1                 2                   2                2   \n",
            "2                  2                 2                   2                3   \n",
            "3                  3                 3                   3                3   \n",
            "4                  2                 2                   2                2   \n",
            "..               ...               ...                 ...              ...   \n",
            "119                0                 0                   0                0   \n",
            "120                1                 1                   1                1   \n",
            "121                1                 1                   1                1   \n",
            "122                2                 2                   2                2   \n",
            "123                2                 2                   2                2   \n",
            "\n",
            "     max_skip_grade  mean_skip_grade  median_skip_grade  min_skip_grade  \n",
            "0                 2                2                  3               3  \n",
            "1                 1                1                  1               1  \n",
            "2                 2                2                  2               3  \n",
            "3                 3                3                  3               2  \n",
            "4                 2                2                  2               2  \n",
            "..              ...              ...                ...             ...  \n",
            "119               0                0                  0               0  \n",
            "120               1                2                  2               2  \n",
            "121               1                1                  1               1  \n",
            "122               2                2                  2               2  \n",
            "123               2                2                  2               2  \n",
            "\n",
            "[124 rows x 12 columns]\n"
          ]
        }
      ]
    },
    {
      "cell_type": "code",
      "source": [
        "def assign_grades(column):\n",
        "    median = cosine_similarities[column].median()\n",
        "    std = cosine_similarities[column].std()\n",
        "    lower_bound = median - std\n",
        "    upper_bound = median + std\n",
        "\n",
        "    def grade(similarity):\n",
        "        if similarity < lower_bound+0.1:\n",
        "            return 0\n",
        "        elif similarity < median-0.05:\n",
        "            return 1\n",
        "        elif similarity < upper_bound-0.1:\n",
        "            return 2\n",
        "        else:\n",
        "            return 3\n",
        "\n",
        "    return cosine_similarities[column].apply(grade)\n",
        "\n",
        "graded_cosines = cosine_similarities.copy()\n",
        "\n",
        "# Assign grades to each column in the dataframe\n",
        "for column in cosine_similarities.columns[4:]:\n",
        "    graded_cosines[f\"{column}_grade\"] = assign_grades(column)\n",
        "\n",
        "print(graded_cosines[['max_cbow_grade', 'mean_cbow_grade', 'median_cbow_grade',\n",
        "       'min_cbow_grade', 'max_glove_grade', 'mean_glove_grade',\n",
        "       'median_glove_grade', 'min_glove_grade', 'max_skip_grade',\n",
        "       'mean_skip_grade', 'median_skip_grade', 'min_skip_grade']])"
      ],
      "metadata": {
        "colab": {
          "base_uri": "https://localhost:8080/"
        },
        "id": "RFhWVaS7fPzC",
        "outputId": "945d9ccd-1b88-48e7-ffb5-bb7552750bca"
      },
      "execution_count": 104,
      "outputs": [
        {
          "output_type": "stream",
          "name": "stdout",
          "text": [
            "     max_cbow_grade  mean_cbow_grade  median_cbow_grade  min_cbow_grade  \\\n",
            "0                 3                3                  3               3   \n",
            "1                 2                2                  2               2   \n",
            "2                 3                3                  3               3   \n",
            "3                 3                2                  3               2   \n",
            "4                 2                2                  2               3   \n",
            "..              ...              ...                ...             ...   \n",
            "119               0                0                  0               0   \n",
            "120               2                2                  2               2   \n",
            "121               2                2                  2               3   \n",
            "122               2                2                  2               2   \n",
            "123               2                1                  1               0   \n",
            "\n",
            "     max_glove_grade  mean_glove_grade  median_glove_grade  min_glove_grade  \\\n",
            "0                  2                 2                   2                2   \n",
            "1                  3                 3                   3                3   \n",
            "2                  2                 2                   3                2   \n",
            "3                  3                 3                   3                3   \n",
            "4                  2                 2                   2                2   \n",
            "..               ...               ...                 ...              ...   \n",
            "119                0                 0                   0                0   \n",
            "120                2                 2                   2                1   \n",
            "121                3                 3                   3                3   \n",
            "122                2                 2                   2                2   \n",
            "123                2                 2                   2                2   \n",
            "\n",
            "     max_skip_grade  mean_skip_grade  median_skip_grade  min_skip_grade  \n",
            "0                 3                3                  3               3  \n",
            "1                 2                2                  2               2  \n",
            "2                 3                3                  3               3  \n",
            "3                 3                2                  2               2  \n",
            "4                 2                2                  2               3  \n",
            "..              ...              ...                ...             ...  \n",
            "119               0                0                  0               0  \n",
            "120               2                2                  2               3  \n",
            "121               2                2                  2               2  \n",
            "122               2                2                  2               2  \n",
            "123               2                2                  2               0  \n",
            "\n",
            "[124 rows x 12 columns]\n"
          ]
        }
      ]
    },
    {
      "cell_type": "code",
      "source": [
        "columns = ['max', 'mean', 'median', 'min']\n",
        "\n",
        "for size in columns:\n",
        "  mean_cbow_cbow = graded_cosines[f'{size}_cbow'].mean()\n",
        "  median_cbow_cbow = graded_cosines[f'{size}_cbow'].median()\n",
        "  std_cbow_cbow = graded_cosines[f'{size}_cbow'].std()\n",
        "  min_cbow_cbow = graded_cosines[f'{size}_cbow'].min()\n",
        "  max_cbow_cbow = graded_cosines[f'{size}_cbow'].max()\n",
        "\n",
        "  print(f'{size.capitalize()} statistics:')\n",
        "  print(f'Mean cbow: {mean_cbow_cbow:.2f}')\n",
        "  print(f'Median cbow: {median_cbow_cbow:.2f}')\n",
        "  print(f'Min cbow: {min_cbow_cbow:.2f}')\n",
        "  print(f'Max cbow: {max_cbow_cbow:.2f}')\n",
        "  print(f'Standard deviation cbow: {std_cbow_cbow:.2f}')\n",
        "  print()"
      ],
      "metadata": {
        "colab": {
          "base_uri": "https://localhost:8080/"
        },
        "id": "0Y2EQk6HiFV6",
        "outputId": "057d938d-c8e1-4dae-93d1-dc6c818e08d1"
      },
      "execution_count": 60,
      "outputs": [
        {
          "output_type": "stream",
          "name": "stdout",
          "text": [
            "Max statistics:\n",
            "Mean cbow: 0.66\n",
            "Median cbow: 0.74\n",
            "Min cbow: 0.04\n",
            "Max cbow: 1.00\n",
            "Standard deviation cbow: 0.22\n",
            "\n",
            "Mean statistics:\n",
            "Mean cbow: 0.60\n",
            "Median cbow: 0.68\n",
            "Min cbow: -0.01\n",
            "Max cbow: 0.86\n",
            "Standard deviation cbow: 0.21\n",
            "\n",
            "Median statistics:\n",
            "Mean cbow: 0.61\n",
            "Median cbow: 0.68\n",
            "Min cbow: -0.01\n",
            "Max cbow: 0.87\n",
            "Standard deviation cbow: 0.21\n",
            "\n",
            "Min statistics:\n",
            "Mean cbow: 0.54\n",
            "Median cbow: 0.61\n",
            "Min cbow: -0.05\n",
            "Max cbow: 0.82\n",
            "Standard deviation cbow: 0.21\n",
            "\n"
          ]
        }
      ]
    },
    {
      "cell_type": "code",
      "source": [
        "def similarity_to_score(similarity):\n",
        "    if similarity <= 0.3 :\n",
        "        score = 0\n",
        "    elif similarity <= 0.6:\n",
        "        score = 1\n",
        "    elif similarity < 0.9:\n",
        "        score = 2\n",
        "    else:\n",
        "        score = 3\n",
        "    return score\n",
        "\n",
        "graded_wmd['grade'] = graded_wmd['notas'].apply(similarity_to_score)"
      ],
      "metadata": {
        "id": "u-NTOBggFNaD"
      },
      "execution_count": 106,
      "outputs": []
    },
    {
      "cell_type": "code",
      "source": [
        "def similarity_to_score(similarity):\n",
        "    if similarity <= 0.3 :\n",
        "        score = 0\n",
        "    elif similarity <= 0.6:\n",
        "        score = 1\n",
        "    elif similarity < 0.9:\n",
        "        score = 2\n",
        "    else:\n",
        "        score = 3\n",
        "    return score\n",
        "\n",
        "graded_cosines['grade'] = graded_cosines['notas'].apply(similarity_to_score)"
      ],
      "metadata": {
        "id": "mS6KAUi_ypTK"
      },
      "execution_count": 107,
      "outputs": []
    },
    {
      "cell_type": "code",
      "source": [
        "from sklearn.metrics import cohen_kappa_score"
      ],
      "metadata": {
        "id": "CyrL7gJ4yLvJ"
      },
      "execution_count": 48,
      "outputs": []
    },
    {
      "cell_type": "code",
      "source": [
        "Kappa_max = cohen_kappa_score(graded_wmd['grade'], graded_wmd['max_cbow_grade'], weights='linear')\n",
        "Kappa_mean = cohen_kappa_score(graded_wmd['grade'], graded_wmd['mean_cbow_grade'], weights='linear')\n",
        "Kappa_median = cohen_kappa_score(graded_wmd['grade'], graded_wmd['median_cbow_grade'], weights='linear')\n",
        "Kappa_min = cohen_kappa_score(graded_wmd['grade'], graded_wmd['min_cbow_grade'], weights='linear')\n",
        "\n",
        "\n",
        "# Print the cbow Cohen's Kappa metric\n",
        "print(\"Max cbow Cohen's Kappa:\", Kappa_max)\n",
        "print(\"Mean cbow Cohen's Kappa:\", Kappa_mean)\n",
        "print(\"Median cbow Cohen's Kappa:\", Kappa_median)\n",
        "print(\"Min cbow Cohen's Kappa:\", Kappa_min)\n",
        "print('\\n')\n",
        "\n",
        "Kappa_max = cohen_kappa_score(graded_wmd['grade'], graded_wmd['max_glove_grade'], weights='linear')\n",
        "Kappa_mean = cohen_kappa_score(graded_wmd['grade'], graded_wmd['mean_glove_grade'], weights='linear')\n",
        "Kappa_median = cohen_kappa_score(graded_wmd['grade'], graded_wmd['median_glove_grade'], weights='linear')\n",
        "Kappa_min = cohen_kappa_score(graded_wmd['grade'], graded_wmd['min_glove_grade'], weights='linear')\n",
        "\n",
        "\n",
        "# Print the cbow Cohen's Kappa metric\n",
        "print(\"Max glove Cohen's Kappa:\", Kappa_max)\n",
        "print(\"Mean glove Cohen's Kappa:\", Kappa_mean)\n",
        "print(\"Median glove Cohen's Kappa:\", Kappa_median)\n",
        "print(\"Min glove Cohen's Kappa:\", Kappa_min)\n",
        "print('\\n')\n",
        "\n",
        "\n",
        "Kappa_max = cohen_kappa_score(graded_wmd['grade'], graded_wmd['max_skip_grade'], weights='linear')\n",
        "Kappa_mean = cohen_kappa_score(graded_wmd['grade'], graded_wmd['mean_skip_grade'], weights='linear')\n",
        "Kappa_median = cohen_kappa_score(graded_wmd['grade'], graded_wmd['median_skip_grade'], weights='linear')\n",
        "Kappa_min = cohen_kappa_score(graded_wmd['grade'], graded_wmd['min_skip_grade'], weights='linear')\n",
        "\n",
        "\n",
        "# Print the cbow Cohen's Kappa metric\n",
        "print(\"Max skip Cohen's Kappa:\", Kappa_max)\n",
        "print(\"Mean skip Cohen's Kappa:\", Kappa_mean)\n",
        "print(\"Median skip Cohen's Kappa:\", Kappa_median)\n",
        "print(\"Min skip Cohen's Kappa:\", Kappa_min)\n",
        "print('\\n')"
      ],
      "metadata": {
        "colab": {
          "base_uri": "https://localhost:8080/"
        },
        "id": "nmBxJITVFXOJ",
        "outputId": "935e546e-2c4c-4dd1-83bf-7abeff5504ec"
      },
      "execution_count": 108,
      "outputs": [
        {
          "output_type": "stream",
          "name": "stdout",
          "text": [
            "Max cbow Cohen's Kappa: 0.3282844220048384\n",
            "Mean cbow Cohen's Kappa: 0.3810846969229186\n",
            "Median cbow Cohen's Kappa: 0.39016393442622943\n",
            "Min cbow Cohen's Kappa: 0.3852509812022309\n",
            "\n",
            "\n",
            "Max glove Cohen's Kappa: 0.34791754312158174\n",
            "Mean glove Cohen's Kappa: 0.3710421149707961\n",
            "Median glove Cohen's Kappa: 0.3774590163934426\n",
            "Min glove Cohen's Kappa: 0.38133936837773885\n",
            "\n",
            "\n",
            "Max skip Cohen's Kappa: 0.33123887318043765\n",
            "Mean skip Cohen's Kappa: 0.37733142037302725\n",
            "Median skip Cohen's Kappa: 0.39016393442622943\n",
            "Min skip Cohen's Kappa: 0.38651433234724064\n",
            "\n",
            "\n"
          ]
        }
      ]
    },
    {
      "cell_type": "code",
      "source": [
        "Kappa_max = cohen_kappa_score(graded_wmd['grade'], graded_wmd['max_cbow_grade'], weights='quadratic')\n",
        "Kappa_mean = cohen_kappa_score(graded_wmd['grade'], graded_wmd['mean_cbow_grade'], weights='quadratic')\n",
        "Kappa_median = cohen_kappa_score(graded_wmd['grade'], graded_wmd['median_cbow_grade'], weights='quadratic')\n",
        "Kappa_min = cohen_kappa_score(graded_wmd['grade'], graded_wmd['min_cbow_grade'], weights='quadratic')\n",
        "\n",
        "\n",
        "# Print the cbow Cohen's Kappa metric\n",
        "print(\"Max cbow Cohen's Kappa:\", Kappa_max)\n",
        "print(\"Mean cbow Cohen's Kappa:\", Kappa_mean)\n",
        "print(\"Median cbow Cohen's Kappa:\", Kappa_median)\n",
        "print(\"Min cbow Cohen's Kappa:\", Kappa_min)\n",
        "print('\\n')\n",
        "\n",
        "Kappa_max = cohen_kappa_score(graded_wmd['grade'], graded_wmd['max_glove_grade'], weights='quadratic')\n",
        "Kappa_mean = cohen_kappa_score(graded_wmd['grade'], graded_wmd['mean_glove_grade'], weights='quadratic')\n",
        "Kappa_median = cohen_kappa_score(graded_wmd['grade'], graded_wmd['median_glove_grade'], weights='quadratic')\n",
        "Kappa_min = cohen_kappa_score(graded_wmd['grade'], graded_wmd['min_glove_grade'], weights='quadratic')\n",
        "\n",
        "\n",
        "# Print the cbow Cohen's Kappa metric\n",
        "print(\"Max glove Cohen's Kappa:\", Kappa_max)\n",
        "print(\"Mean glove Cohen's Kappa:\", Kappa_mean)\n",
        "print(\"Median glove Cohen's Kappa:\", Kappa_median)\n",
        "print(\"Min glove Cohen's Kappa:\", Kappa_min)\n",
        "print('\\n')\n",
        "\n",
        "\n",
        "Kappa_max = cohen_kappa_score(graded_wmd['grade'], graded_wmd['max_skip_grade'], weights='quadratic')\n",
        "Kappa_mean = cohen_kappa_score(graded_wmd['grade'], graded_wmd['mean_skip_grade'], weights='quadratic')\n",
        "Kappa_median = cohen_kappa_score(graded_wmd['grade'], graded_wmd['median_skip_grade'], weights='quadratic')\n",
        "Kappa_min = cohen_kappa_score(graded_wmd['grade'], graded_wmd['min_skip_grade'], weights='quadratic')\n",
        "\n",
        "\n",
        "# Print the cbow Cohen's Kappa metric\n",
        "print(\"Max skip Cohen's Kappa:\", Kappa_max)\n",
        "print(\"Mean skip Cohen's Kappa:\", Kappa_mean)\n",
        "print(\"Median skip Cohen's Kappa:\", Kappa_median)\n",
        "print(\"Min skip Cohen's Kappa:\", Kappa_min)\n",
        "print('\\n')"
      ],
      "metadata": {
        "colab": {
          "base_uri": "https://localhost:8080/"
        },
        "id": "VApOUTyAHTTF",
        "outputId": "0c794402-99ec-40d3-df4f-f4589c21fb86"
      },
      "execution_count": 109,
      "outputs": [
        {
          "output_type": "stream",
          "name": "stdout",
          "text": [
            "Max cbow Cohen's Kappa: 0.4498119417019276\n",
            "Mean cbow Cohen's Kappa: 0.5075591586327782\n",
            "Median cbow Cohen's Kappa: 0.5121793489976287\n",
            "Min cbow Cohen's Kappa: 0.5140431090790333\n",
            "\n",
            "\n",
            "Max glove Cohen's Kappa: 0.47691586594797275\n",
            "Mean glove Cohen's Kappa: 0.5074578469520103\n",
            "Median glove Cohen's Kappa: 0.5121793489976287\n",
            "Min glove Cohen's Kappa: 0.5265381282495667\n",
            "\n",
            "\n",
            "Max skip Cohen's Kappa: 0.4577154772937905\n",
            "Mean skip Cohen's Kappa: 0.5027097333622372\n",
            "Median skip Cohen's Kappa: 0.5121793489976287\n",
            "Min skip Cohen's Kappa: 0.5166525243954179\n",
            "\n",
            "\n"
          ]
        }
      ]
    },
    {
      "cell_type": "code",
      "source": [
        "Kappa_max = cohen_kappa_score(graded_cosines['grade'], graded_cosines['max_cbow_grade'], weights='linear')\n",
        "Kappa_mean = cohen_kappa_score(graded_cosines['grade'], graded_cosines['mean_cbow_grade'], weights='linear')\n",
        "Kappa_median = cohen_kappa_score(graded_cosines['grade'], graded_cosines['median_cbow_grade'], weights='linear')\n",
        "Kappa_min = cohen_kappa_score(graded_cosines['grade'], graded_cosines['min_cbow_grade'], weights='linear')\n",
        "\n",
        "\n",
        "# Print the cbow Cohen's Kappa metric\n",
        "print(\"Max cbow Cohen's Kappa:\", Kappa_max)\n",
        "print(\"Mean cbow Cohen's Kappa:\", Kappa_mean)\n",
        "print(\"Median cbow Cohen's Kappa:\", Kappa_median)\n",
        "print(\"Min cbow Cohen's Kappa:\", Kappa_min)\n",
        "print('\\n')\n",
        "\n",
        "Kappa_max = cohen_kappa_score(graded_cosines['grade'], graded_cosines['max_glove_grade'], weights='linear')\n",
        "Kappa_mean = cohen_kappa_score(graded_cosines['grade'], graded_cosines['mean_glove_grade'], weights='linear')\n",
        "Kappa_median = cohen_kappa_score(graded_cosines['grade'], graded_cosines['median_glove_grade'], weights='linear')\n",
        "Kappa_min = cohen_kappa_score(graded_cosines['grade'], graded_cosines['min_glove_grade'], weights='linear')\n",
        "\n",
        "\n",
        "# Print the cbow Cohen's Kappa metric\n",
        "print(\"Max glove Cohen's Kappa:\", Kappa_max)\n",
        "print(\"Mean glove Cohen's Kappa:\", Kappa_mean)\n",
        "print(\"Median glove Cohen's Kappa:\", Kappa_median)\n",
        "print(\"Min glove Cohen's Kappa:\", Kappa_min)\n",
        "print('\\n')\n",
        "\n",
        "\n",
        "Kappa_max = cohen_kappa_score(graded_cosines['grade'], graded_cosines['max_skip_grade'], weights='linear')\n",
        "Kappa_mean = cohen_kappa_score(graded_cosines['grade'], graded_cosines['mean_skip_grade'], weights='linear')\n",
        "Kappa_median = cohen_kappa_score(graded_cosines['grade'], graded_cosines['median_skip_grade'], weights='linear')\n",
        "Kappa_min = cohen_kappa_score(graded_cosines['grade'], graded_cosines['min_skip_grade'], weights='linear')\n",
        "\n",
        "\n",
        "# Print the cbow Cohen's Kappa metric\n",
        "print(\"Max skip Cohen's Kappa:\", Kappa_max)\n",
        "print(\"Mean skip Cohen's Kappa:\", Kappa_mean)\n",
        "print(\"Median skip Cohen's Kappa:\", Kappa_median)\n",
        "print(\"Min skip Cohen's Kappa:\", Kappa_min)\n",
        "print('\\n')"
      ],
      "metadata": {
        "colab": {
          "base_uri": "https://localhost:8080/"
        },
        "id": "Rp0a0r0yS9_b",
        "outputId": "0aaa119a-c362-45a7-8386-b398c2d9649d"
      },
      "execution_count": 110,
      "outputs": [
        {
          "output_type": "stream",
          "name": "stdout",
          "text": [
            "Max cbow Cohen's Kappa: 0.4364239118810823\n",
            "Mean cbow Cohen's Kappa: 0.4177796327212019\n",
            "Median cbow Cohen's Kappa: 0.4488305640808551\n",
            "Min cbow Cohen's Kappa: 0.3597994987468671\n",
            "\n",
            "\n",
            "Max glove Cohen's Kappa: 0.3828583403185247\n",
            "Mean glove Cohen's Kappa: 0.3720194133783499\n",
            "Median glove Cohen's Kappa: 0.3678789152827412\n",
            "Min glove Cohen's Kappa: 0.3233113673805601\n",
            "\n",
            "\n",
            "Max skip Cohen's Kappa: 0.40740740740740755\n",
            "Mean skip Cohen's Kappa: 0.39669153421991565\n",
            "Median skip Cohen's Kappa: 0.4093959731543625\n",
            "Min skip Cohen's Kappa: 0.3332650553052029\n",
            "\n",
            "\n"
          ]
        }
      ]
    },
    {
      "cell_type": "code",
      "source": [
        "Kappa_max = cohen_kappa_score(graded_cosines['grade'], graded_cosines['max_cbow_grade'], weights='quadratic')\n",
        "Kappa_mean = cohen_kappa_score(graded_cosines['grade'], graded_cosines['mean_cbow_grade'], weights='quadratic')\n",
        "Kappa_median = cohen_kappa_score(graded_cosines['grade'], graded_cosines['median_cbow_grade'], weights='quadratic')\n",
        "Kappa_min = cohen_kappa_score(graded_cosines['grade'], graded_cosines['min_cbow_grade'], weights='quadratic')\n",
        "\n",
        "\n",
        "# Print the cbow Cohen's Kappa metric\n",
        "print(\"Max cbow Cohen's Kappa:\", Kappa_max)\n",
        "print(\"Mean cbow Cohen's Kappa:\", Kappa_mean)\n",
        "print(\"Median cbow Cohen's Kappa:\", Kappa_median)\n",
        "print(\"Min cbow Cohen's Kappa:\", Kappa_min)\n",
        "print('\\n')\n",
        "\n",
        "Kappa_max = cohen_kappa_score(graded_cosines['grade'], graded_cosines['max_glove_grade'], weights='quadratic')\n",
        "Kappa_mean = cohen_kappa_score(graded_cosines['grade'], graded_cosines['mean_glove_grade'], weights='quadratic')\n",
        "Kappa_median = cohen_kappa_score(graded_cosines['grade'], graded_cosines['median_glove_grade'], weights='quadratic')\n",
        "Kappa_min = cohen_kappa_score(graded_cosines['grade'], graded_cosines['min_glove_grade'], weights='quadratic')\n",
        "\n",
        "\n",
        "# Print the cbow Cohen's Kappa metric\n",
        "print(\"Max glove Cohen's Kappa:\", Kappa_max)\n",
        "print(\"Mean glove Cohen's Kappa:\", Kappa_mean)\n",
        "print(\"Median glove Cohen's Kappa:\", Kappa_median)\n",
        "print(\"Min glove Cohen's Kappa:\", Kappa_min)\n",
        "print('\\n')\n",
        "\n",
        "\n",
        "Kappa_max = cohen_kappa_score(graded_cosines['grade'], graded_cosines['max_skip_grade'], weights='quadratic')\n",
        "Kappa_mean = cohen_kappa_score(graded_cosines['grade'], graded_cosines['mean_skip_grade'], weights='quadratic')\n",
        "Kappa_median = cohen_kappa_score(graded_cosines['grade'], graded_cosines['median_skip_grade'], weights='quadratic')\n",
        "Kappa_min = cohen_kappa_score(graded_cosines['grade'], graded_cosines['min_skip_grade'], weights='quadratic')\n",
        "\n",
        "\n",
        "# Print the cbow Cohen's Kappa metric\n",
        "print(\"Max skip Cohen's Kappa:\", Kappa_max)\n",
        "print(\"Mean skip Cohen's Kappa:\", Kappa_mean)\n",
        "print(\"Median skip Cohen's Kappa:\", Kappa_median)\n",
        "print(\"Min skip Cohen's Kappa:\", Kappa_min)\n",
        "print('\\n')"
      ],
      "metadata": {
        "colab": {
          "base_uri": "https://localhost:8080/"
        },
        "id": "NifSlsEeB_CE",
        "outputId": "ed3204d6-7792-4111-86c6-2f81df5d8d9e"
      },
      "execution_count": 111,
      "outputs": [
        {
          "output_type": "stream",
          "name": "stdout",
          "text": [
            "Max cbow Cohen's Kappa: 0.547228144989339\n",
            "Mean cbow Cohen's Kappa: 0.5203218485661234\n",
            "Median cbow Cohen's Kappa: 0.5710691823899371\n",
            "Min cbow Cohen's Kappa: 0.45518954729481054\n",
            "\n",
            "\n",
            "Max glove Cohen's Kappa: 0.4870503597122302\n",
            "Mean glove Cohen's Kappa: 0.4420126815299652\n",
            "Median glove Cohen's Kappa: 0.44051220004033076\n",
            "Min glove Cohen's Kappa: 0.41174145087962044\n",
            "\n",
            "\n",
            "Max skip Cohen's Kappa: 0.5380338078291815\n",
            "Mean skip Cohen's Kappa: 0.5171127687582273\n",
            "Median skip Cohen's Kappa: 0.5316596311930684\n",
            "Min skip Cohen's Kappa: 0.4388189738625363\n",
            "\n",
            "\n"
          ]
        }
      ]
    },
    {
      "cell_type": "code",
      "source": [
        "Kappa_max = cohen_kappa_score(graded_cosines['grade'], graded_cosines['max_cbow_grade'], weights='linear')\n",
        "Kappa_mean = cohen_kappa_score(graded_cosines['grade'], graded_cosines['mean_cbow_grade'], weights='linear')\n",
        "Kappa_median = cohen_kappa_score(graded_cosines['grade'], graded_cosines['median_cbow_grade'], weights='linear')\n",
        "Kappa_min = cohen_kappa_score(graded_cosines['grade'], graded_cosines['min_cbow_grade'], weights='linear')\n",
        "\n",
        "\n",
        "# Print the cbow Cohen's Kappa metric\n",
        "print(\"Max cbow Cohen's Kappa:\", Kappa_max)\n",
        "print(\"Mean cbow Cohen's Kappa:\", Kappa_mean)\n",
        "print(\"Median cbow Cohen's Kappa:\", Kappa_median)\n",
        "print(\"Min cbow Cohen's Kappa:\", Kappa_min)\n",
        "print('\\n')\n",
        "\n",
        "Kappa_max = cohen_kappa_score(graded_cosines['grade'], graded_cosines['max_glove_grade'], weights='linear')\n",
        "Kappa_mean = cohen_kappa_score(graded_cosines['grade'], graded_cosines['mean_glove_grade'], weights='linear')\n",
        "Kappa_median = cohen_kappa_score(graded_cosines['grade'], graded_cosines['median_glove_grade'], weights='linear')\n",
        "Kappa_min = cohen_kappa_score(graded_cosines['grade'], graded_cosines['min_glove_grade'], weights='linear')\n",
        "\n",
        "\n",
        "# Print the cbow Cohen's Kappa metric\n",
        "print(\"Max glove Cohen's Kappa:\", Kappa_max)\n",
        "print(\"Mean glove Cohen's Kappa:\", Kappa_mean)\n",
        "print(\"Median glove Cohen's Kappa:\", Kappa_median)\n",
        "print(\"Min glove Cohen's Kappa:\", Kappa_min)\n",
        "print('\\n')\n",
        "\n",
        "\n",
        "Kappa_max = cohen_kappa_score(graded_cosines['grade'], graded_cosines['max_skip_grade'], weights='linear')\n",
        "Kappa_mean = cohen_kappa_score(graded_cosines['grade'], graded_cosines['mean_skip_grade'], weights='linear')\n",
        "Kappa_median = cohen_kappa_score(graded_cosines['grade'], graded_cosines['median_skip_grade'], weights='linear')\n",
        "Kappa_min = cohen_kappa_score(graded_cosines['grade'], graded_cosines['min_skip_grade'], weights='linear')\n",
        "\n",
        "\n",
        "# Print the cbow Cohen's Kappa metric\n",
        "print(\"Max skip Cohen's Kappa:\", Kappa_max)\n",
        "print(\"Mean skip Cohen's Kappa:\", Kappa_mean)\n",
        "print(\"Median skip Cohen's Kappa:\", Kappa_median)\n",
        "print(\"Min skip Cohen's Kappa:\", Kappa_min)\n",
        "print('\\n')"
      ],
      "metadata": {
        "colab": {
          "base_uri": "https://localhost:8080/"
        },
        "id": "im7iaeGUyVEL",
        "outputId": "e6731361-743e-4ee5-80cf-c52fba2b0c8f"
      },
      "execution_count": null,
      "outputs": [
        {
          "output_type": "stream",
          "name": "stdout",
          "text": [
            "Max Cohen's Kappa: 0.5146926729115873\n",
            "Mean Cohen's Kappa: 0.4729764019284446\n",
            "Median Cohen's Kappa: 0.49342525213838884\n",
            "Min Cohen's Kappa: 0.44695528068506185\n"
          ]
        }
      ]
    },
    {
      "cell_type": "code",
      "source": [
        "zero = 0\n",
        "um = 0\n",
        "dois = 0\n",
        "tres = 0\n",
        "\n",
        "def count_result(result):\n",
        "    global zero, um, dois, tres\n",
        "    if result == 0:\n",
        "        zero = zero + 1\n",
        "    elif result == 1:\n",
        "        um = um + 1\n",
        "    elif result == 2:\n",
        "        dois = dois + 1\n",
        "    elif result == 3:\n",
        "        tres = tres + 1\n",
        "    return result\n",
        "graded_cosines['grade'].apply(count_result)\n",
        "print(zero, um, dois, tres)"
      ],
      "metadata": {
        "colab": {
          "base_uri": "https://localhost:8080/"
        },
        "id": "QTMan2X8YKoq",
        "outputId": "3690e24b-4759-4a87-8c0e-7d32d19773d2"
      },
      "execution_count": 66,
      "outputs": [
        {
          "output_type": "stream",
          "name": "stdout",
          "text": [
            "21 9 56 38\n"
          ]
        }
      ]
    },
    {
      "cell_type": "code",
      "source": [
        "zero = 0\n",
        "um = 0\n",
        "dois = 0\n",
        "tres = 0\n",
        "\n",
        "def count_result(result):\n",
        "    global zero, um, dois, tres\n",
        "    if result == 0:\n",
        "        zero = zero + 1\n",
        "    elif result == 1:\n",
        "        um = um + 1\n",
        "    elif result == 2:\n",
        "        dois = dois + 1\n",
        "    elif result == 3:\n",
        "        tres = tres + 1\n",
        "    return result\n",
        "graded_cosines['max_cbow_grade'].apply(count_result)\n",
        "print(zero, um, dois, tres)"
      ],
      "metadata": {
        "colab": {
          "base_uri": "https://localhost:8080/"
        },
        "id": "rPn3PrpRePK4",
        "outputId": "8081851f-3b81-4bc9-803a-a71dfb62115f"
      },
      "execution_count": 113,
      "outputs": [
        {
          "output_type": "stream",
          "name": "stdout",
          "text": [
            "27 13 64 20\n"
          ]
        }
      ]
    }
  ]
}